{
 "cells": [
  {
   "attachments": {},
   "cell_type": "markdown",
   "metadata": {},
   "source": [
    "Import used packages"
   ]
  },
  {
   "cell_type": "code",
   "execution_count": 1,
   "metadata": {},
   "outputs": [
    {
     "ename": "AttributeError",
     "evalue": "module 'algorithms' has no attribute 'construct_sparse_matrices'",
     "output_type": "error",
     "traceback": [
      "\u001b[0;31m---------------------------------------------------------------------------\u001b[0m",
      "\u001b[0;31mAttributeError\u001b[0m                            Traceback (most recent call last)",
      "Cell \u001b[0;32mIn[1], line 1\u001b[0m\n\u001b[0;32m----> 1\u001b[0m \u001b[39mfrom\u001b[39;00m \u001b[39malgorithms\u001b[39;00m \u001b[39mimport\u001b[39;00m \u001b[39m*\u001b[39m\n\u001b[1;32m      2\u001b[0m \u001b[39mimport\u001b[39;00m \u001b[39mnumpy\u001b[39;00m \u001b[39mas\u001b[39;00m \u001b[39mnp\u001b[39;00m\n",
      "\u001b[0;31mAttributeError\u001b[0m: module 'algorithms' has no attribute 'construct_sparse_matrices'"
     ]
    }
   ],
   "source": [
    "from algorithms import *\n",
    "import numpy as np"
   ]
  },
  {
   "cell_type": "code",
   "execution_count": null,
   "metadata": {},
   "outputs": [],
   "source": [
    "# Define both data paths\n",
    "circle_path = 'Circle.csv'\n",
    "spiral_path = 'Spiral.csv'\n",
    "\n",
    "# Load the Circle data set\n",
    "data_circle = np.loadtxt(circle_path, delimiter=',')\n",
    "X_circle = data_circle[:, :2]\n",
    "\n",
    "# Load the Spiral data set\n",
    "data_spiral = np.loadtxt(spiral_path, delimiter=',')\n",
    "X_spiral = data_spiral[:, :2]\n",
    "labels_spiral = data_spiral[:, 2]"
   ]
  },
  {
   "attachments": {},
   "cell_type": "markdown",
   "metadata": {},
   "source": [
    "Define Global Variables"
   ]
  },
  {
   "cell_type": "code",
   "execution_count": null,
   "metadata": {},
   "outputs": [],
   "source": [
    "sigma = 1\n",
    "k = 10"
   ]
  },
  {
   "attachments": {},
   "cell_type": "markdown",
   "metadata": {},
   "source": [
    "Construct Similarity Graph for both Circle and Spiral"
   ]
  },
  {
   "cell_type": "code",
   "execution_count": null,
   "metadata": {},
   "outputs": [],
   "source": [
    "# Try several values of k = 10, 20, 40. Use σ = 1\n",
    "W_circle = construct_similarity_graph(X_circle, k=k, sigma=sigma)\n",
    "W_spiral = construct_similarity_graph(X_spiral, k=k, sigma=sigma)"
   ]
  },
  {
   "attachments": {},
   "cell_type": "markdown",
   "metadata": {},
   "source": [
    "Compute Percentage of non-zero elements:"
   ]
  },
  {
   "cell_type": "code",
   "execution_count": null,
   "metadata": {},
   "outputs": [
    {
     "ename": "NameError",
     "evalue": "name 'percentage_nonzero' is not defined",
     "output_type": "error",
     "traceback": [
      "\u001b[0;31m---------------------------------------------------------------------------\u001b[0m",
      "\u001b[0;31mNameError\u001b[0m                                 Traceback (most recent call last)",
      "Cell \u001b[0;32mIn[9], line 1\u001b[0m\n\u001b[0;32m----> 1\u001b[0m c_percentage \u001b[39m=\u001b[39m percentage_nonzero(W_circle)\n\u001b[1;32m      2\u001b[0m s_percentage \u001b[39m=\u001b[39m percentage_nonzero(W_spiral)\n\u001b[1;32m      4\u001b[0m \u001b[39mprint\u001b[39m(\u001b[39m\"\u001b[39m\u001b[39mPercentage of non-zero elements (Circle): \u001b[39m\u001b[39m{:.2f}\u001b[39;00m\u001b[39m%\u001b[39m\u001b[39m\"\u001b[39m\u001b[39m.\u001b[39mformat(c_percentage))\n",
      "\u001b[0;31mNameError\u001b[0m: name 'percentage_nonzero' is not defined"
     ]
    }
   ],
   "source": [
    "c_percentage = percentage_nonzero(W_circle)\n",
    "s_percentage = percentage_nonzero(W_spiral)\n",
    "\n",
    "print(\"Percentage of non-zero elements (Circle): {:.2f}%\".format(c_percentage))\n",
    "print(\"Percentage of non-zero elements (Spiral): {:.2f}%\".format(s_percentage))\n"
   ]
  },
  {
   "attachments": {},
   "cell_type": "markdown",
   "metadata": {},
   "source": [
    "Compute Degree matrix D and the Laplacian matrix L = D − W (sparse format storage)"
   ]
  },
  {
   "cell_type": "code",
   "execution_count": null,
   "metadata": {},
   "outputs": [],
   "source": [
    "W1, D1, L1 = construct_matrices(W_circle, k, sigma)\n",
    "W2, D2, L2 = construct_matrices(W_circle, k, sigma)\n"
   ]
  },
  {
   "cell_type": "code",
   "execution_count": null,
   "metadata": {},
   "outputs": [],
   "source": [
    "L_circle_sparse, D_circle_sparse, W_circle_sparse = construct_sparse_matrices(W_circle)\n",
    "L_spiral_sparse, D_spiral_sparse, W_spiral_sparse = construct_sparse_matrices(W_spiral)"
   ]
  }
 ],
 "metadata": {
  "kernelspec": {
   "display_name": "venv",
   "language": "python",
   "name": "python3"
  },
  "language_info": {
   "codemirror_mode": {
    "name": "ipython",
    "version": 3
   },
   "file_extension": ".py",
   "mimetype": "text/x-python",
   "name": "python",
   "nbconvert_exporter": "python",
   "pygments_lexer": "ipython3",
   "version": "3.10.9"
  },
  "orig_nbformat": 4,
  "vscode": {
   "interpreter": {
    "hash": "82deb7ebdf62c12271930ded557c7a095953f7973d7c91074b3cf1a3c24aef9a"
   }
  }
 },
 "nbformat": 4,
 "nbformat_minor": 2
}
