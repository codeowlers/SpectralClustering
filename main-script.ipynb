{
 "cells": [
  {
   "attachments": {},
   "cell_type": "markdown",
   "metadata": {},
   "source": [
    "Import used packages"
   ]
  },
  {
   "cell_type": "code",
   "execution_count": null,
   "metadata": {},
   "outputs": [],
   "source": [
    "from algorithms import *\n",
    "import numpy as np"
   ]
  },
  {
   "cell_type": "code",
   "execution_count": null,
   "metadata": {},
   "outputs": [],
   "source": [
    "# Define both data paths\n",
    "circle_path = 'Circle.csv'\n",
    "spiral_path = 'Spiral.csv'\n",
    "\n",
    "# Load the Circle data set\n",
    "data_circle = np.loadtxt(circle_path, delimiter=',')\n",
    "X_circle = data_circle[:, :2]\n",
    "\n",
    "# Load the Spiral data set\n",
    "data_spiral = np.loadtxt(spiral_path, delimiter=',')\n",
    "X_spiral = data_spiral[:, :2]\n",
    "labels_spiral = data_spiral[:, 2]"
   ]
  },
  {
   "attachments": {},
   "cell_type": "markdown",
   "metadata": {},
   "source": [
    "Define Global Variables"
   ]
  },
  {
   "cell_type": "code",
   "execution_count": null,
   "metadata": {},
   "outputs": [],
   "source": [
    "sigma = 1\n",
    "k = 10"
   ]
  },
  {
   "attachments": {},
   "cell_type": "markdown",
   "metadata": {},
   "source": [
    "Construct Similarity Graph for both Circle and Spiral"
   ]
  },
  {
   "cell_type": "code",
   "execution_count": null,
   "metadata": {},
   "outputs": [],
   "source": [
    "# Try several values of k = 10, 20, 40. Use σ = 1\n",
    "W_circle = construct_similarity_graph(X_circle, k=k, sigma=sigma)\n",
    "W_spiral = construct_similarity_graph(X_spiral, k=k, sigma=sigma)"
   ]
  },
  {
   "attachments": {},
   "cell_type": "markdown",
   "metadata": {},
   "source": [
    "Compute Percentage of non-zero elements:"
   ]
  },
  {
   "cell_type": "code",
   "execution_count": null,
   "metadata": {},
   "outputs": [],
   "source": [
    "c_percentage = percentage_nonzero(W_circle)\n",
    "s_percentage = percentage_nonzero(W_spiral)\n",
    "\n",
    "print(\"Percentage of non-zero elements (Circle): {:.2f}%\".format(c_percentage))\n",
    "print(\"Percentage of non-zero elements (Spiral): {:.2f}%\".format(s_percentage))\n"
   ]
  },
  {
   "attachments": {},
   "cell_type": "markdown",
   "metadata": {},
   "source": [
    "Compute Degree matrix D and the Laplacian matrix L = D − W (sparse format storage)"
   ]
  },
  {
   "cell_type": "code",
   "execution_count": null,
   "metadata": {},
   "outputs": [],
   "source": [
    "# Laplacian for Circle\n",
    "L_circle_sparse, D_circle_sparse, W_circle_sparse = construct_laplacian(W_circle)\n",
    "\n",
    "# Laplacian for Spiral\n",
    "L_spiral_sparse, D_spiral_sparse, W_spiral_sparse = construct_laplacian(W_spiral)"
   ]
  },
  {
   "attachments": {},
   "cell_type": "markdown",
   "metadata": {},
   "source": [
    "Compute the number of connected components of the similarity graph"
   ]
  },
  {
   "cell_type": "code",
   "execution_count": null,
   "metadata": {
    "collapsed": false
   },
   "outputs": [],
   "source": [
    "# Compute number of connected components for Circle\n",
    "circle_num_components = compute_num_components(L_circle_sparse)\n",
    "print(\"Number of connected components (Circle): \", circle_num_components)\n",
    "\n",
    "# Compute number of connected components for Spiral\n",
    "spiral_num_components = compute_num_components(L_spiral_sparse)\n",
    "print(\"Number of connected components (Spiral): \", spiral_num_components)"
   ]
  },
  {
   "attachments": {},
   "cell_type": "markdown",
   "metadata": {},
   "source": [
    "###### If the number of connected components is equal to 1, it indicates that the graph is fully connected, and all its vertices are interconnected."
   ]
  },
  {
   "attachments": {},
   "cell_type": "markdown",
   "metadata": {},
   "source": [
    " Compute some small eigenvalues of L and use their values to choose a\n",
    "suitable number of clusters M for the points data-sets"
   ]
  },
  {
   "cell_type": "code",
   "execution_count": null,
   "metadata": {},
   "outputs": [],
   "source": [
    "Circle_eigvals,Circle_eigvecs = compute_eigen(L_circle_sparse, k = 10)\n",
    "Circle_num_clusters = num_cluster(Circle_eigvals, k=10,title='Circle' )\n",
    "Spiral_eigvals, Spiral_eigvecs = compute_eigen(L_spiral_sparse, k=10)\n",
    "Spiral_num_clusters = num_cluster(Spiral_eigvals, k=10, title='Spiral' )\n"
   ]
  },
  {
   "attachments": {},
   "cell_type": "markdown",
   "metadata": {},
   "source": [
    "###### In general, power iteration and Lanczos methods are iterative methods that can converge slowly or not at all for certain matrices, particularly for matrices with multiple eigenvalues close to each other or with a wide range of eigenvalues. On the other hand, shift-invert and implicitly restarted Arnoldi methods are often more robust and better suited for sparse matrices with non-uniform eigenvalue distribution."
   ]
  },
  {
   "attachments": {},
   "cell_type": "markdown",
   "metadata": {},
   "source": [
    "Exercise 5- Compute the M eigenvectors u1, ..., uM ∈ RN that correspond to the M smallest eigenvalues of the Laplacian matrix, and define the matrix U ∈ R N×M with these vectors as columns."
   ]
  },
  {
   "cell_type": "code",
   "execution_count": null,
   "metadata": {},
   "outputs": [],
   "source": [
    "Circle_eigvals,Circle_eigvecs = compute_eigen(L_circle_sparse, k = Circle_num_clusters)\n",
    "Spiral_eigvals, Spiral_eigvecs = compute_eigen(L_spiral_sparse, k=Spiral_num_clusters)\n",
    "\n",
    "# Define the matrix Circle_U with the eigenvectors of L_circle_sparse as columns\n",
    "Circle_U = np.stack([Circle_eigvecs[:, i] for i in range(Circle_num_clusters)], axis=1)\n",
    "\n",
    "# Define the matrix Spiral_U with the eigenvectors of L_spiral_sparse as columns\n",
    "Spiral_U = np.stack([Spiral_eigvecs[:, i] for i in range(Spiral_num_clusters)], axis=1)\n"
   ]
  },
  {
   "cell_type": "code",
   "execution_count": null,
   "metadata": {},
   "outputs": [],
   "source": []
  }
 ],
 "metadata": {
  "kernelspec": {
   "display_name": "venv",
   "language": "python",
   "name": "python3"
  },
  "language_info": {
   "codemirror_mode": {
    "name": "ipython",
    "version": 3
   },
   "file_extension": ".py",
   "mimetype": "text/x-python",
   "name": "python",
   "nbconvert_exporter": "python",
   "pygments_lexer": "ipython3",
   "version": "3.10.9"
  },
  "orig_nbformat": 4,
  "vscode": {
   "interpreter": {
    "hash": "82deb7ebdf62c12271930ded557c7a095953f7973d7c91074b3cf1a3c24aef9a"
   }
  }
 },
 "nbformat": 4,
 "nbformat_minor": 2
}
