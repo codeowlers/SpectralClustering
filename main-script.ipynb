{
 "cells": [
  {
   "attachments": {},
   "cell_type": "markdown",
   "metadata": {},
   "source": [
    "Import used packages"
   ]
  },
  {
   "cell_type": "code",
   "execution_count": null,
   "metadata": {},
   "outputs": [],
   "source": [
    "from algorithms import *\n",
    "import numpy as np\n",
    "from sklearn.cluster import KMeans\n",
    "from sklearn.metrics import adjusted_rand_score"
   ]
  },
  {
   "attachments": {},
   "cell_type": "markdown",
   "metadata": {},
   "source": [
    "Load Datasets"
   ]
  },
  {
   "cell_type": "code",
   "execution_count": null,
   "metadata": {},
   "outputs": [],
   "source": [
    "# Define both data paths\n",
    "circle_path = 'Circle.csv'\n",
    "spiral_path = 'Spiral.csv'\n",
    "\n",
    "# Load the Circle data set\n",
    "data_circle = np.loadtxt(circle_path, delimiter=',')\n",
    "X_circle = data_circle[:, :2]\n",
    "\n",
    "# Load the Spiral data set\n",
    "data_spiral = np.loadtxt(spiral_path, delimiter=',')\n",
    "X_spiral = data_spiral[:, :2]\n",
    "labels_spiral = data_spiral[:, 2]"
   ]
  },
  {
   "attachments": {},
   "cell_type": "markdown",
   "metadata": {},
   "source": [
    "Plot Datasets"
   ]
  },
  {
   "cell_type": "code",
   "execution_count": null,
   "metadata": {},
   "outputs": [],
   "source": [
    "plot_datasets(X_circle, 'Circle Dataset', X_spiral, 'Spiral Dataset' )"
   ]
  },
  {
   "attachments": {},
   "cell_type": "markdown",
   "metadata": {},
   "source": [
    "Define Global Variables"
   ]
  },
  {
   "cell_type": "code",
   "execution_count": null,
   "metadata": {},
   "outputs": [],
   "source": [
    "sigma = 1\n",
    "k = 10"
   ]
  },
  {
   "attachments": {},
   "cell_type": "markdown",
   "metadata": {},
   "source": [
    "Construct Similarity Graph for both Circle and Spiral"
   ]
  },
  {
   "cell_type": "code",
   "execution_count": null,
   "metadata": {},
   "outputs": [],
   "source": [
    "# Try several values of k = 10, 20, 40. Use σ = 1\n",
    "W_circle = construct_similarity_graph(X_circle, k=k, sigma=sigma)\n",
    "W_spiral = construct_similarity_graph(X_spiral, k=k, sigma=sigma)\n",
    "\n",
    "W_spiral\n"
   ]
  },
  {
   "attachments": {},
   "cell_type": "markdown",
   "metadata": {},
   "source": [
    "Compute Percentage of non-zero elements:"
   ]
  },
  {
   "cell_type": "code",
   "execution_count": null,
   "metadata": {},
   "outputs": [],
   "source": [
    "c_percentage = percentage_nonzero(W_circle)\n",
    "s_percentage = percentage_nonzero(W_spiral)\n",
    "\n",
    "print(\"Percentage of non-zero elements (Circle): {:.2f}%\".format(c_percentage))\n",
    "print(\"Percentage of non-zero elements (Spiral): {:.2f}%\".format(s_percentage))\n"
   ]
  },
  {
   "attachments": {},
   "cell_type": "markdown",
   "metadata": {},
   "source": [
    "Compute Degree matrix D and the Laplacian matrix L = D − W (sparse format storage)"
   ]
  },
  {
   "cell_type": "code",
   "execution_count": null,
   "metadata": {},
   "outputs": [],
   "source": [
    "# Laplacian for Circle\n",
    "L_circle_sparse, D_circle_sparse, W_circle_sparse = construct_laplacian(W_circle)\n",
    "\n",
    "# Laplacian for Spiral\n",
    "L_spiral_sparse, D_spiral_sparse, W_spiral_sparse = construct_laplacian(W_spiral)"
   ]
  },
  {
   "attachments": {},
   "cell_type": "markdown",
   "metadata": {},
   "source": [
    "Compute the number of connected components of the similarity graph"
   ]
  },
  {
   "cell_type": "code",
   "execution_count": null,
   "metadata": {
    "collapsed": false
   },
   "outputs": [],
   "source": [
    "# Compute number of connected components for Circle\n",
    "circle_num_components = compute_num_components(L_circle_sparse)\n",
    "print(\"Number of connected components (Circle): \", circle_num_components)\n",
    "\n",
    "# Compute number of connected components for Spiral\n",
    "spiral_num_components = compute_num_components(L_spiral_sparse)\n",
    "print(\"Number of connected components (Spiral): \", spiral_num_components)"
   ]
  },
  {
   "attachments": {},
   "cell_type": "markdown",
   "metadata": {},
   "source": [
    "###### If the number of connected components is equal to 1, it indicates that the graph is fully connected, and all its vertices are interconnected."
   ]
  },
  {
   "attachments": {},
   "cell_type": "markdown",
   "metadata": {},
   "source": [
    " Compute some small eigenvalues of L and use their values to choose a\n",
    "suitable number of clusters M for the points data-sets"
   ]
  },
  {
   "cell_type": "code",
   "execution_count": null,
   "metadata": {},
   "outputs": [],
   "source": [
    "circle_eigvals, circle_eigvecs, circle_sorted_eigvals = compute_eigen(L_circle_sparse, k = 5)\n",
    "circle_num_clusters = num_cluster(circle_sorted_eigvals, k=5,title='Circle' )\n",
    "spiral_eigvals, spiral_eigvecs, spiral_sorted_eigvals = compute_eigen(L_spiral_sparse, k=5)\n",
    "spiral_num_clusters = num_cluster(spiral_sorted_eigvals, k=5, title='Spiral' )\n"
   ]
  },
  {
   "attachments": {},
   "cell_type": "markdown",
   "metadata": {},
   "source": [
    "###### In general, power iteration and Lanczos methods are iterative methods that can converge slowly or not at all for certain matrices, particularly for matrices with multiple eigenvalues close to each other or with a wide range of eigenvalues. On the other hand, shift-invert and implicitly restarted Arnoldi methods are often more robust and better suited for sparse matrices with non-uniform eigenvalue distribution."
   ]
  },
  {
   "attachments": {},
   "cell_type": "markdown",
   "metadata": {},
   "source": [
    "Exercise 5- Compute the M eigenvectors u1, ..., uM ∈ RN that correspond to the M smallest eigenvalues of the Laplacian matrix, and define the matrix U ∈ R N×M with these vectors as columns."
   ]
  },
  {
   "cell_type": "code",
   "execution_count": null,
   "metadata": {},
   "outputs": [],
   "source": [
    "circle_eigvals, circle_eigvecs, circle_sorted_eigvals = compute_eigen(L_circle_sparse, k = circle_num_clusters)\n",
    "spiral_eigvals, spiral_eigvecs, spiral_sorted_eigvals = compute_eigen(L_spiral_sparse, k=spiral_num_clusters)\n",
    "\n",
    "# Define the matrix Circle_U with the eigenvectors of L_circle_sparse as columns\n",
    "circle_U = np.stack([circle_eigvecs[:, i] for i in range(circle_num_clusters)], axis=1)\n",
    "\n",
    "# Define the matrix Spiral_U with the eigenvectors of L_spiral_sparse as columns\n",
    "spiral_U = np.stack([spiral_eigvecs[:, i] for i in range(spiral_num_clusters)], axis=1)"
   ]
  },
  {
   "attachments": {},
   "cell_type": "markdown",
   "metadata": {},
   "source": [
    "Exercise 6- k-means algorithm"
   ]
  },
  {
   "cell_type": "code",
   "execution_count": null,
   "metadata": {
    "collapsed": false
   },
   "outputs": [],
   "source": [
    "# Circle\n",
    "# Cluster the points yi in RM with the k-means algorithm into clusters C1, ..., CM\n",
    "Circle_kmeans = KMeans(n_clusters=circle_num_clusters, n_init=10, random_state=0)\n",
    "y_Circle_kmeans = Circle_kmeans.fit_predict(circle_U)\n",
    "\n",
    "# Spiral\n",
    "# Cluster the points yi in RM with the k-means algorithm into clusters C1, ..., CM\n",
    "Spiral_kmeans = KMeans(n_clusters=spiral_num_clusters, n_init=10, random_state=0)\n",
    "y_Spiral_kmeans = Spiral_kmeans.fit_predict(spiral_U)"
   ]
  },
  {
   "attachments": {},
   "cell_type": "markdown",
   "metadata": {},
   "source": [
    "Exercises 7- Assign the original points in X to the same clusters as their corresponding\n",
    "rows in U and construct the clusters "
   ]
  },
  {
   "cell_type": "code",
   "execution_count": null,
   "metadata": {},
   "outputs": [],
   "source": [
    "# Circle\n",
    "# Assign the original points in X to the same clusters as their corresponding rows in U\n",
    "C = []\n",
    "for i in range(circle_num_clusters):\n",
    "    C.append(X_circle[y_Circle_kmeans == i])\n",
    "\n",
    "# Spiral\n",
    "# Assign the original points in X to the same clusters as their corresponding rows in U\n",
    "S = []\n",
    "for i in range(spiral_num_clusters):\n",
    "    S.append(X_spiral[y_Spiral_kmeans == i])"
   ]
  },
  {
   "cell_type": "markdown",
   "metadata": {
    "collapsed": false
   },
   "source": [
    "###### In here we set the number of clusters to the values extracted before, and use the \"k-means++\" initialization method, which can lead to better results than random initialization. We also set the maximum number of iterations to 300, and the number of times the k-means algorithm will be run with different centroid seeds to 10. The fit_predict method is used to compute cluster centers and predict the closest cluster each point in U belongs to. The resulting clusters are stored in the clusters variable."
   ]
  },
  {
   "attachments": {},
   "cell_type": "markdown",
   "metadata": {},
   "source": [
    "Exercise 8- Plot the clusters of points X with different colors."
   ]
  },
  {
   "cell_type": "code",
   "execution_count": null,
   "metadata": {},
   "outputs": [],
   "source": [
    "# Plot Circle Clusters\n",
    "plot_clustering(C,circle_num_clusters,'Circle Clusters')\n",
    "\n",
    "# Plot Spiral Clusters\n",
    "plot_clustering(S,spiral_num_clusters, 'Spiral Clusters')"
   ]
  },
  {
   "attachments": {},
   "cell_type": "markdown",
   "metadata": {},
   "source": [
    "Exercise 9- Compute the clusters for the same set of points with other clustering\n",
    "methods "
   ]
  },
  {
   "attachments": {},
   "cell_type": "markdown",
   "metadata": {},
   "source": [
    "Using Agglomerative Clustering"
   ]
  },
  {
   "cell_type": "code",
   "execution_count": null,
   "metadata": {},
   "outputs": [],
   "source": [
    "# Apply agglomerative clustering to circle data\n",
    "circle_agg = agglomerative_clustering(X_circle, 3, 'Agglomerative Clustering - Circle')\n",
    "\n",
    "# Apply agglomerative clustering to spiral data\n",
    "spiral_agg = agglomerative_clustering(X_spiral, 3, \"Agglomerative Clustering - Spiral\")"
   ]
  },
  {
   "attachments": {},
   "cell_type": "markdown",
   "metadata": {},
   "source": [
    "Comparison: compute adjusted Rand index for both algorithms using spiral dataset:"
   ]
  },
  {
   "cell_type": "code",
   "execution_count": null,
   "metadata": {},
   "outputs": [],
   "source": [
    "ari_spectral = adjusted_rand_score(labels_spiral, y_Spiral_kmeans)\n",
    "print(\"Adjusted Rand index between true labels and Spectral Clustering labels: \", ari_spectral)\n",
    "\n",
    "\n",
    "ari_agglomerative = adjusted_rand_score(labels_spiral, spiral_agg)\n",
    "print(\"Adjusted Rand index between true labels and Agglomerative Clustering labels: \", ari_agglomerative)"
   ]
  },
  {
   "attachments": {},
   "cell_type": "markdown",
   "metadata": {},
   "source": [
    "###### The value of the adjusted Rand index (ARI) ranges from -1 to 1, with 1 indicating perfect agreement between the true labels and the predicted labels, and 0 indicating random labeling. Negative values of ARI indicate that the predicted labels are worse than random labeling."
   ]
  }
 ],
 "metadata": {
  "kernelspec": {
   "display_name": "venv",
   "language": "python",
   "name": "python3"
  },
  "language_info": {
   "codemirror_mode": {
    "name": "ipython",
    "version": 3
   },
   "file_extension": ".py",
   "mimetype": "text/x-python",
   "name": "python",
   "nbconvert_exporter": "python",
   "pygments_lexer": "ipython3",
   "version": "3.10.9"
  },
  "orig_nbformat": 4,
  "vscode": {
   "interpreter": {
    "hash": "82deb7ebdf62c12271930ded557c7a095953f7973d7c91074b3cf1a3c24aef9a"
   }
  }
 },
 "nbformat": 4,
 "nbformat_minor": 2
}
