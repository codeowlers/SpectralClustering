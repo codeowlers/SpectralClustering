{
 "cells": [
  {
   "attachments": {},
   "cell_type": "markdown",
   "metadata": {},
   "source": [
    "Import used packages"
   ]
  },
  {
   "cell_type": "code",
   "execution_count": null,
   "metadata": {},
   "outputs": [],
   "source": [
    "from algorithms import *\n",
    "import numpy as np"
   ]
  },
  {
   "cell_type": "code",
   "execution_count": null,
   "metadata": {},
   "outputs": [],
   "source": [
    "# Define both data paths\n",
    "circle_path = 'Circle.csv'\n",
    "spiral_path = 'Spiral.csv'\n",
    "\n",
    "# Load the Circle data set\n",
    "data_circle = np.loadtxt(circle_path, delimiter=',')\n",
    "X_circle = data_circle[:, :2]\n",
    "\n",
    "# Load the Spiral data set\n",
    "data_spiral = np.loadtxt(spiral_path, delimiter=',')\n",
    "X_spiral = data_spiral[:, :2]\n",
    "labels_spiral = data_spiral[:, 2]"
   ]
  },
  {
   "attachments": {},
   "cell_type": "markdown",
   "metadata": {},
   "source": [
    "Construct Similarity Graph for both Circle and Spiral"
   ]
  },
  {
   "cell_type": "code",
   "execution_count": null,
   "metadata": {},
   "outputs": [],
   "source": [
    "# Try several values of k = 10, 20, 40. Use σ = 1\n",
    "\n",
    "W_circle = construct_similarity_graph(X_circle, k=10, sigma=1)\n",
    "W_spiral = construct_similarity_graph(X_spiral, k=10, sigma=1)"
   ]
  }
 ],
 "metadata": {
  "kernelspec": {
   "display_name": ".venv",
   "language": "python",
   "name": "python3"
  },
  "language_info": {
   "codemirror_mode": {
    "name": "ipython",
    "version": 3
   },
   "file_extension": ".py",
   "mimetype": "text/x-python",
   "name": "python",
   "nbconvert_exporter": "python",
   "pygments_lexer": "ipython3",
   "version": "3.10.2"
  },
  "orig_nbformat": 4,
  "vscode": {
   "interpreter": {
    "hash": "71eb9a381410d4f4aef1740661d9a29432c01b8c7266b6efae8b9b7431d44fba"
   }
  }
 },
 "nbformat": 4,
 "nbformat_minor": 2
}
